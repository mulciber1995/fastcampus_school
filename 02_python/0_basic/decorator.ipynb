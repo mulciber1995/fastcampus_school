{
 "cells": [
  {
   "cell_type": "code",
   "execution_count": 2,
   "metadata": {},
   "outputs": [
    {
     "name": "stdout",
     "output_type": "stream",
     "text": [
      "args: (3,)\n",
      "kwargs: {}\n"
     ]
    }
   ],
   "source": [
    "def multi(n):\n",
    "    return n * n\n",
    "\n",
    "def print_debug(f):\n",
    "    def inner_f(*args, **kwargs): # << 아무거나 매개변수로 다 넣을 수 있다는 말 \n",
    "        result = f(*args, **kwargs)\n",
    "        print('args:', args)\n",
    "        print('kwargs:', kwargs)\n",
    "    return inner_f\n",
    "\n",
    "print_debug_decorated_multi = print_debug(multi) # print_debug_decorated_multi = inner_f\n",
    "result = print_debug_decorated_multi(3) # inner_f(3) 과 동일 "
   ]
  },
  {
   "cell_type": "code",
   "execution_count": null,
   "metadata": {
    "collapsed": true
   },
   "outputs": [],
   "source": []
  }
 ],
 "metadata": {
  "kernelspec": {
   "display_name": "Python 3",
   "language": "python",
   "name": "python3"
  },
  "language_info": {
   "codemirror_mode": {
    "name": "ipython",
    "version": 3
   },
   "file_extension": ".py",
   "mimetype": "text/x-python",
   "name": "python",
   "nbconvert_exporter": "python",
   "pygments_lexer": "ipython3",
   "version": "3.6.0"
  }
 },
 "nbformat": 4,
 "nbformat_minor": 2
}
