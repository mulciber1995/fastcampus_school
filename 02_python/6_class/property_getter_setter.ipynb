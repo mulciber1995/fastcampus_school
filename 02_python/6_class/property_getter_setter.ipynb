{
 "cells": [
  {
   "cell_type": "code",
   "execution_count": 15,
   "metadata": {
    "collapsed": true
   },
   "outputs": [],
   "source": [
    "class Person:\n",
    "    def __init__(self, name, mon):\n",
    "        self.name = name \n",
    "        self.money = mon\n",
    "    \n",
    "    @property\n",
    "    def money(self):\n",
    "        print('getter excute!')\n",
    "        return self._money\n",
    "    \n",
    "    @money.setter\n",
    "    def money(self, how_much):\n",
    "        print('setter excute!')\n",
    "        if how_much < 0:\n",
    "            print('0 이상을 입력해주세요!')\n",
    "            self._money = 0\n",
    "        else:\n",
    "            self._money = how_much\n",
    "            \n",
    "    def __str__(self):\n",
    "        return \"name: {}, money: {}\".format(self.name, self._money)"
   ]
  },
  {
   "cell_type": "code",
   "execution_count": 16,
   "metadata": {},
   "outputs": [
    {
     "name": "stdout",
     "output_type": "stream",
     "text": [
      "setter excute!\n",
      "0 이상을 입력해주세요!\n"
     ]
    }
   ],
   "source": [
    "p1 = Person('몽키', -500)"
   ]
  },
  {
   "cell_type": "code",
   "execution_count": 17,
   "metadata": {},
   "outputs": [
    {
     "name": "stdout",
     "output_type": "stream",
     "text": [
      "setter excute!\n"
     ]
    }
   ],
   "source": [
    "p1.money = 600"
   ]
  },
  {
   "cell_type": "code",
   "execution_count": 32,
   "metadata": {
    "collapsed": true
   },
   "outputs": [],
   "source": [
    "class Rainbow:\n",
    "    def __init__(self):\n",
    "        self.COLORS =  ['빨', '주', '노', '초', '파', '남', '보']\n",
    "        self.__colors = self.COLORS\n",
    "    \n",
    "    @property\n",
    "    def colors(self):\n",
    "        print(\"getter 실행!\")\n",
    "        return self.__colors\n",
    "    \n",
    "    @colors.setter\n",
    "    def colors(self, color_set):\n",
    "        print(\"setter 실행!\")\n",
    "        self.__colors = [color for color in color_set if color in self.COLORS]\n",
    "        "
   ]
  },
  {
   "cell_type": "code",
   "execution_count": 33,
   "metadata": {},
   "outputs": [],
   "source": [
    "rain = Rainbow()"
   ]
  },
  {
   "cell_type": "code",
   "execution_count": 34,
   "metadata": {},
   "outputs": [
    {
     "name": "stdout",
     "output_type": "stream",
     "text": [
      "getter 실행!\n"
     ]
    },
    {
     "data": {
      "text/plain": [
       "['빨', '주', '노', '초', '파', '남', '보']"
      ]
     },
     "execution_count": 34,
     "metadata": {},
     "output_type": "execute_result"
    }
   ],
   "source": [
    "rain.colors"
   ]
  },
  {
   "cell_type": "code",
   "execution_count": 35,
   "metadata": {},
   "outputs": [
    {
     "name": "stdout",
     "output_type": "stream",
     "text": [
      "setter 실행!\n"
     ]
    }
   ],
   "source": [
    "rain.colors = ['검', '빨', '주'] "
   ]
  },
  {
   "cell_type": "code",
   "execution_count": 36,
   "metadata": {},
   "outputs": [
    {
     "name": "stdout",
     "output_type": "stream",
     "text": [
      "getter 실행!\n"
     ]
    },
    {
     "data": {
      "text/plain": [
       "['빨', '주']"
      ]
     },
     "execution_count": 36,
     "metadata": {},
     "output_type": "execute_result"
    }
   ],
   "source": [
    "rain.colors"
   ]
  },
  {
   "cell_type": "code",
   "execution_count": null,
   "metadata": {
    "collapsed": true
   },
   "outputs": [],
   "source": []
  }
 ],
 "metadata": {
  "kernelspec": {
   "display_name": "Python 3",
   "language": "python",
   "name": "python3"
  },
  "language_info": {
   "codemirror_mode": {
    "name": "ipython",
    "version": 3
   },
   "file_extension": ".py",
   "mimetype": "text/x-python",
   "name": "python",
   "nbconvert_exporter": "python",
   "pygments_lexer": "ipython3",
   "version": "3.6.0"
  }
 },
 "nbformat": 4,
 "nbformat_minor": 2
}
