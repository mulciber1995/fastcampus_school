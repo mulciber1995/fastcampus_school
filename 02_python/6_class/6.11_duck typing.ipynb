{
 "cells": [
  {
   "cell_type": "code",
   "execution_count": 2,
   "metadata": {},
   "outputs": [],
   "source": [
    "class Quote():\n",
    "    def __init__(self, person, words):\n",
    "        self.person = person\n",
    "        self.words = words\n",
    "    def who(self):\n",
    "        return self.person\n",
    "    def says(self):\n",
    "        return self.words + '.'\n",
    "\n",
    "class QuestionQuote(Quote):\n",
    "    def says(self):\n",
    "        return self.words + '?'\n",
    "\n",
    "class ExclamationsQuote(Quote):\n",
    "    def says(self):\n",
    "        return self.words + '!'\n",
    "    \n"
   ]
  },
  {
   "cell_type": "code",
   "execution_count": 10,
   "metadata": {},
   "outputs": [
    {
     "name": "stdout",
     "output_type": "stream",
     "text": [
      "siwa1 hi.\n",
      "siwa2 hihi?\n",
      "siwa3 hello!\n"
     ]
    }
   ],
   "source": [
    "q1 = Quote('siwa1', 'hi')\n",
    "print(q1.who(), q1.says())\n",
    "\n",
    "q2 = QuestionQuote('siwa2', 'hihi')\n",
    "print(q2.who(), q2.says())\n",
    "\n",
    "q3 = ExclamationsQuote('siwa3', 'hello')\n",
    "print(q3.who(), q3.says())"
   ]
  },
  {
   "cell_type": "code",
   "execution_count": 11,
   "metadata": {},
   "outputs": [],
   "source": [
    "class BabblingBrook():\n",
    "    def who(self):\n",
    "        return 'Brook'\n",
    "    def says(self):\n",
    "        return 'Babble'\n",
    "    \n",
    "brook = BabblingBrook()\n"
   ]
  },
  {
   "cell_type": "code",
   "execution_count": 15,
   "metadata": {},
   "outputs": [],
   "source": [
    "def who_says(obj):\n",
    "    print(obj.who(), 'says', obj.says())"
   ]
  },
  {
   "cell_type": "code",
   "execution_count": 19,
   "metadata": {},
   "outputs": [
    {
     "name": "stdout",
     "output_type": "stream",
     "text": [
      "siwa1 says hi.\n",
      "siwa2 says hihi?\n",
      "siwa3 says hello!\n",
      "Brook says Babble\n"
     ]
    }
   ],
   "source": [
    "who_says(q1)\n",
    "who_says(q2)\n",
    "who_says(q3)\n",
    "who_says(brook)"
   ]
  },
  {
   "cell_type": "code",
   "execution_count": null,
   "metadata": {
    "collapsed": true
   },
   "outputs": [],
   "source": []
  }
 ],
 "metadata": {
  "kernelspec": {
   "display_name": "Django Shell-Plus",
   "language": "python",
   "name": "django_extensions"
  },
  "language_info": {
   "codemirror_mode": {
    "name": "ipython",
    "version": 3
   },
   "file_extension": ".py",
   "mimetype": "text/x-python",
   "name": "python",
   "nbconvert_exporter": "python",
   "pygments_lexer": "ipython3",
   "version": "3.6.0"
  }
 },
 "nbformat": 4,
 "nbformat_minor": 2
}
